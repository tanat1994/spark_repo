{
 "cells": [
  {
   "cell_type": "markdown",
   "metadata": {},
   "source": [
    "# Web scraping project with BeautifulSoup lib\n",
    "\n",
    "## Description: using python to get & store the data in csv format then cleaning & exploring the data with pyspark\n",
    "\n",
    "### source[Index page]: http://www.planecrashinfo.com/database.htm"
   ]
  },
  {
   "cell_type": "code",
   "execution_count": 1,
   "metadata": {
    "collapsed": true
   },
   "outputs": [],
   "source": [
    "import requests\n",
    "import urllib.request\n",
    "from bs4 import BeautifulSoup\n",
    "import sys\n",
    "import csv"
   ]
  },
  {
   "cell_type": "code",
   "execution_count": 2,
   "metadata": {},
   "outputs": [],
   "source": [
    "def scraping_year_tag_from_index (url):\n",
    "    try:\n",
    "        response = requests.get(url)\n",
    "        if (response.status_code == 200):\n",
    "            soup = BeautifulSoup(response.text, \"html.parser\")\n",
    "            soup_year_tag = soup.findAll('a')\n",
    "            return soup_year_tag\n",
    "        else:\n",
    "            return False\n",
    "        \n",
    "    except requests.exceptions.RequestException as e:\n",
    "        print (\"Request Error: {}\".format(e))\n",
    "        sys.exit(1)"
   ]
  },
  {
   "cell_type": "code",
   "execution_count": 3,
   "metadata": {
    "collapsed": true
   },
   "outputs": [],
   "source": [
    "#response = requests.get('http://www.planecrashinfo.com/2015/2015.htm')\n",
    "#scraping_data_from_web('http://www.planecrashinfo.com/2015/2015.htm')"
   ]
  },
  {
   "cell_type": "code",
   "execution_count": 4,
   "metadata": {
    "collapsed": true
   },
   "outputs": [],
   "source": [
    "def scraping_plane_crash_by_year(year_url):\n",
    "    statistic_url = 'http://www.planecrashinfo.com{}'.format(str(year_url))\n",
    "    request_data_by_year(statistic_url)"
   ]
  },
  {
   "cell_type": "code",
   "execution_count": 5,
   "metadata": {},
   "outputs": [],
   "source": [
    "def request_data_by_year(year_url):\n",
    "    #Scraping the data from <tr><td> tags and store in the CSV format\n",
    "    try:\n",
    "        response = requests.get(year_url)\n",
    "        year = year_url.split('/')[3]\n",
    "        if (response.status_code == 200):\n",
    "            soup = BeautifulSoup(response.text, \"html.parser\")\n",
    "            table_soup = soup.find(\"table\").findAll(\"tr\")\n",
    "            csv_writer = open(\"data/\" + year + \".csv\", \"w\")\n",
    "            with csv_writer:\n",
    "                writer = csv.writer(csv_writer)\n",
    "                for tr in table_soup[0:]:\n",
    "                    tmp_list = []\n",
    "                    tds = tr.findAll([\"td\"])\n",
    "                    for td in tds:\n",
    "                        cleaned_td = td.text.replace(\"\\n\", \"\").replace(\"\\r\", \"\")\n",
    "                        tmp_list.append(cleaned_td)\n",
    "                    writer.writerow(tmp_list)\n",
    "        else:\n",
    "            sys.exit(1)\n",
    "    except requests.exceptions.ConnectionError as conn_err:\n",
    "        print (\"Connection Refused: {}\".format(conn_err))\n",
    "    except requests.exceptions.RequestException as e:\n",
    "        print (\"Request Error: {}\".format(e))"
   ]
  },
  {
   "cell_type": "code",
   "execution_count": 6,
   "metadata": {},
   "outputs": [],
   "source": [
    "def main():\n",
    "    plane_crash_db_index = 'http://www.planecrashinfo.com/database.htm'\n",
    "    scraping_year_tag = scraping_year_tag_from_index(plane_crash_db_index)\n",
    "    \n",
    "    for tag in scraping_year_tag[:-1]:\n",
    "        year = tag['href'].split('/')[1]\n",
    "        print(year)\n",
    "        scraping_plane_crash_by_year(tag['href'])"
   ]
  },
  {
   "cell_type": "code",
   "execution_count": 7,
   "metadata": {},
   "outputs": [
    {
     "name": "stdout",
     "output_type": "stream",
     "text": [
      "1920\n",
      "1921\n",
      "1922\n",
      "1923\n",
      "1924\n",
      "1925\n",
      "1926\n",
      "1927\n",
      "1928\n",
      "1929.htm\n",
      "Connection Refused: HTTPConnectionPool(host='www.planecrashinfo.com1929', port=80): Max retries exceeded with url: /1929.htm (Caused by NewConnectionError('<requests.packages.urllib3.connection.HTTPConnection object at 0x7f46fc0825f8>: Failed to establish a new connection: [Errno -2] Name or service not known',))\n",
      "1930\n",
      "1931\n",
      "1932\n",
      "1933\n",
      "1934\n",
      "1935\n",
      "1936\n",
      "1937\n",
      "1938\n",
      "1939\n",
      "1940\n",
      "1941\n",
      "1942\n",
      "1943\n",
      "1944\n",
      "1945\n",
      "1946\n",
      "1947\n",
      "1948\n",
      "1949\n",
      "1950\n",
      "1951\n",
      "1952\n",
      "1953\n",
      "1954\n",
      "1955\n",
      "1956\n",
      "1957\n",
      "1958\n",
      "1959\n",
      "1960\n",
      "1961\n",
      "1962\n",
      "1963\n",
      "1964\n",
      "1965\n",
      "1966\n",
      "1967\n",
      "1968\n",
      "1969\n",
      "1970\n",
      "1971\n",
      "1972\n",
      "1973\n",
      "1974\n",
      "1975\n",
      "1976\n",
      "1977\n",
      "1978\n",
      "1979\n",
      "1980\n",
      "1981\n",
      "1982\n",
      "1983\n",
      "1984\n",
      "1985\n",
      "1986\n",
      "1987\n",
      "1988\n",
      "1989\n",
      "1990\n",
      "1991\n",
      "1992\n",
      "1993\n",
      "1994\n",
      "1995\n",
      "1996\n",
      "1997\n",
      "1998\n",
      "1999\n",
      "2000\n",
      "2001\n",
      "2002\n",
      "2003\n",
      "2004\n",
      "2005\n",
      "2006\n",
      "2007\n",
      "2008\n",
      "2009\n",
      "2010\n",
      "2011\n",
      "2012\n",
      "2013\n",
      "2014\n",
      "2015\n",
      "2016\n",
      "2017\n",
      "2018\n",
      "2019\n",
      "2020\n"
     ]
    }
   ],
   "source": [
    "if __name__ == \"__main__\":\n",
    "    main()"
   ]
  },
  {
   "cell_type": "code",
   "execution_count": null,
   "metadata": {
    "collapsed": true
   },
   "outputs": [],
   "source": []
  }
 ],
 "metadata": {
  "anaconda-cloud": {},
  "kernelspec": {
   "display_name": "Python 3",
   "language": "python",
   "name": "python3"
  },
  "language_info": {
   "codemirror_mode": {
    "name": "ipython",
    "version": 3
   },
   "file_extension": ".py",
   "mimetype": "text/x-python",
   "name": "python",
   "nbconvert_exporter": "python",
   "pygments_lexer": "ipython3",
   "version": "3.7.6"
  }
 },
 "nbformat": 4,
 "nbformat_minor": 1
}
