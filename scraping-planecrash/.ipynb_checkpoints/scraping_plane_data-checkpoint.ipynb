{
 "cells": [
  {
   "cell_type": "markdown",
   "metadata": {},
   "source": [
    "# PySpark web scraping project\n",
    "\n",
    "## Description: using python to get & store the data to csv file then cleaning & exploring the data with pyspark\n",
    "\n",
    "### source: http://www.planecrashinfo.com/database.htm"
   ]
  },
  {
   "cell_type": "code",
   "execution_count": 206,
   "metadata": {
    "collapsed": true
   },
   "outputs": [],
   "source": [
    "import requests\n",
    "import urllib.request\n",
    "from bs4 import BeautifulSoup\n",
    "import sys\n",
    "import csv"
   ]
  },
  {
   "cell_type": "code",
   "execution_count": 98,
   "metadata": {
    "collapsed": false
   },
   "outputs": [],
   "source": [
    "def scraping_year_tag_from_index (url):\n",
    "    try:\n",
    "        response = requests.get(url)\n",
    "        if (response.status_code == 200):\n",
    "            soup = BeautifulSoup(response.text, \"html.parser\")\n",
    "            soup_year_tag = soup.findAll('a')\n",
    "            return soup_year_tag\n",
    "        else:\n",
    "            return False\n",
    "        \n",
    "    except requests.exceptions.RequestException as e:\n",
    "        print (\"Request Error: {}\".format(e))\n",
    "        sys.exit(1)"
   ]
  },
  {
   "cell_type": "code",
   "execution_count": 127,
   "metadata": {
    "collapsed": true
   },
   "outputs": [],
   "source": [
    "#response = requests.get('http://www.planecrashinfo.com/2015/2015.htm')\n",
    "#scraping_data_from_web('http://www.planecrashinfo.com/2015/2015.htm')"
   ]
  },
  {
   "cell_type": "code",
   "execution_count": 176,
   "metadata": {
    "collapsed": true
   },
   "outputs": [],
   "source": [
    "def scraping_plane_crash_by_year(year_url):\n",
    "    statistic_url = 'http://www.planecrashinfo.com{}'.format(str(year_url))\n",
    "    request_data_by_year(statistic_url)"
   ]
  },
  {
   "cell_type": "code",
   "execution_count": 233,
   "metadata": {
    "collapsed": false
   },
   "outputs": [],
   "source": [
    "def request_data_by_year(year_url):\n",
    "    try:\n",
    "        response = requests.get(year_url)\n",
    "        if (response.status_code == 200):\n",
    "            soup = BeautifulSoup(response.text, \"html.parser\")\n",
    "            table_soup = soup.find(\"table\").find_all(\"tr\")\n",
    "            csv_writer = open(\"1.csv\", \"w\")\n",
    "            with csv_writer:\n",
    "                writer = csv.writer(csv_writer)\n",
    "                for tr in table_soup:\n",
    "                    tds = tr.find_all(\"td\")\n",
    "                    for td in tds:\n",
    "                        writer.writerow([td.text])\n",
    "                        print(td.text)\n",
    "                        sys.exit(1)\n",
    "                writer.writerow('\\n')\n",
    "\n",
    "        else:\n",
    "            sys.exit(1)\n",
    "    except requests.exceptions.RequestException as e:\n",
    "        print (\"Request Error: {}\".format(e))\n",
    "        sys.exit(1)"
   ]
  },
  {
   "cell_type": "code",
   "execution_count": 234,
   "metadata": {
    "collapsed": false
   },
   "outputs": [],
   "source": [
    "def main():\n",
    "    plane_crash_db_index = 'http://www.planecrashinfo.com/database.htm'\n",
    "    scraping_year_tag = scraping_year_tag_from_index(plane_crash_db_index)\n",
    "    \n",
    "    #for tag in scraping_year_tag:\n",
    "        #scraping_plane_crash_by_year(tag['href'])\n",
    "    scraping_plane_crash_by_year('/2004/2004.htm')"
   ]
  },
  {
   "cell_type": "code",
   "execution_count": 235,
   "metadata": {
    "collapsed": false
   },
   "outputs": [
    {
     "name": "stdout",
     "output_type": "stream",
     "text": [
      "Date\n"
     ]
    },
    {
     "ename": "SystemExit",
     "evalue": "1",
     "output_type": "error",
     "traceback": [
      "An exception has occurred, use %tb to see the full traceback.\n",
      "\u001b[1;31mSystemExit\u001b[0m\u001b[1;31m:\u001b[0m 1\n"
     ]
    },
    {
     "name": "stderr",
     "output_type": "stream",
     "text": [
      "To exit: use 'exit', 'quit', or Ctrl-D.\n"
     ]
    }
   ],
   "source": [
    "if __name__ == \"__main__\":\n",
    "    main()"
   ]
  },
  {
   "cell_type": "code",
   "execution_count": null,
   "metadata": {
    "collapsed": true
   },
   "outputs": [],
   "source": []
  }
 ],
 "metadata": {
  "anaconda-cloud": {},
  "kernelspec": {
   "display_name": "Python [Root]",
   "language": "python",
   "name": "Python [Root]"
  },
  "language_info": {
   "codemirror_mode": {
    "name": "ipython",
    "version": 3
   },
   "file_extension": ".py",
   "mimetype": "text/x-python",
   "name": "python",
   "nbconvert_exporter": "python",
   "pygments_lexer": "ipython3",
   "version": "3.5.2"
  }
 },
 "nbformat": 4,
 "nbformat_minor": 0
}
