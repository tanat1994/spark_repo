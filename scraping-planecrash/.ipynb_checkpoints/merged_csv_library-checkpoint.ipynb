{
 "cells": [
  {
   "cell_type": "code",
   "execution_count": 45,
   "metadata": {
    "collapsed": true
   },
   "outputs": [],
   "source": [
    "import pandas as pd\n",
    "from glob import glob\n",
    "from datetime import datetime"
   ]
  },
  {
   "cell_type": "code",
   "execution_count": 46,
   "metadata": {
    "collapsed": false
   },
   "outputs": [],
   "source": [
    "now = datetime.now()\n",
    "timestamp = now.strftime(\"%m%Y_%H%M%S\")"
   ]
  },
  {
   "cell_type": "code",
   "execution_count": 47,
   "metadata": {
    "collapsed": true
   },
   "outputs": [],
   "source": [
    "plane_crashed_files = sorted(glob('data/*.csv'))"
   ]
  },
  {
   "cell_type": "code",
   "execution_count": 48,
   "metadata": {
    "collapsed": false
   },
   "outputs": [
    {
     "data": {
      "text/plain": [
       "['data/1920.csv',\n",
       " 'data/1921.csv',\n",
       " 'data/1922.csv',\n",
       " 'data/1923.csv',\n",
       " 'data/1924.csv',\n",
       " 'data/1925.csv',\n",
       " 'data/1926.csv',\n",
       " 'data/1927.csv',\n",
       " 'data/1928.csv',\n",
       " 'data/1930.csv',\n",
       " 'data/1931.csv',\n",
       " 'data/1932.csv',\n",
       " 'data/1933.csv',\n",
       " 'data/1934.csv',\n",
       " 'data/1935.csv',\n",
       " 'data/1936.csv',\n",
       " 'data/1937.csv',\n",
       " 'data/1938.csv',\n",
       " 'data/1939.csv',\n",
       " 'data/1940.csv',\n",
       " 'data/1941.csv',\n",
       " 'data/1942.csv',\n",
       " 'data/1943.csv',\n",
       " 'data/1944.csv',\n",
       " 'data/1945.csv',\n",
       " 'data/1946.csv',\n",
       " 'data/1947.csv',\n",
       " 'data/1948.csv',\n",
       " 'data/1949.csv',\n",
       " 'data/1950.csv',\n",
       " 'data/1951.csv',\n",
       " 'data/1952.csv',\n",
       " 'data/1953.csv',\n",
       " 'data/1954.csv',\n",
       " 'data/1955.csv',\n",
       " 'data/1956.csv',\n",
       " 'data/1957.csv',\n",
       " 'data/1958.csv',\n",
       " 'data/1959.csv',\n",
       " 'data/1960.csv',\n",
       " 'data/1961.csv',\n",
       " 'data/1962.csv',\n",
       " 'data/1963.csv',\n",
       " 'data/1964.csv',\n",
       " 'data/1965.csv',\n",
       " 'data/1966.csv',\n",
       " 'data/1967.csv',\n",
       " 'data/1968.csv',\n",
       " 'data/1969.csv',\n",
       " 'data/1970.csv',\n",
       " 'data/1971.csv',\n",
       " 'data/1972.csv',\n",
       " 'data/1973.csv',\n",
       " 'data/1974.csv',\n",
       " 'data/1975.csv',\n",
       " 'data/1976.csv',\n",
       " 'data/1977.csv',\n",
       " 'data/1978.csv',\n",
       " 'data/1979.csv',\n",
       " 'data/1980.csv',\n",
       " 'data/1981.csv',\n",
       " 'data/1982.csv',\n",
       " 'data/1983.csv',\n",
       " 'data/1984.csv',\n",
       " 'data/1985.csv',\n",
       " 'data/1986.csv',\n",
       " 'data/1987.csv',\n",
       " 'data/1988.csv',\n",
       " 'data/1989.csv',\n",
       " 'data/1990.csv',\n",
       " 'data/1991.csv',\n",
       " 'data/1992.csv',\n",
       " 'data/1993.csv',\n",
       " 'data/1994.csv',\n",
       " 'data/1995.csv',\n",
       " 'data/1996.csv',\n",
       " 'data/1997.csv',\n",
       " 'data/1998.csv',\n",
       " 'data/1999.csv',\n",
       " 'data/2000.csv',\n",
       " 'data/2001.csv',\n",
       " 'data/2002.csv',\n",
       " 'data/2003.csv',\n",
       " 'data/2004.csv',\n",
       " 'data/2005.csv',\n",
       " 'data/2006.csv',\n",
       " 'data/2007.csv',\n",
       " 'data/2008.csv',\n",
       " 'data/2009.csv',\n",
       " 'data/2010.csv',\n",
       " 'data/2011.csv',\n",
       " 'data/2012.csv',\n",
       " 'data/2013.csv',\n",
       " 'data/2014.csv',\n",
       " 'data/2015.csv',\n",
       " 'data/2016.csv',\n",
       " 'data/2017.csv',\n",
       " 'data/2018.csv',\n",
       " 'data/2019.csv',\n",
       " 'data/2020.csv']"
      ]
     },
     "execution_count": 48,
     "metadata": {},
     "output_type": "execute_result"
    }
   ],
   "source": [
    "plane_crashed_files"
   ]
  },
  {
   "cell_type": "code",
   "execution_count": 49,
   "metadata": {
    "collapsed": false
   },
   "outputs": [],
   "source": [
    "df = pd.concat((pd.read_csv(file).assign(filename = file)\n",
    "          for file in plane_crashed_files), ignore_index=True)"
   ]
  },
  {
   "cell_type": "code",
   "execution_count": 50,
   "metadata": {
    "collapsed": true
   },
   "outputs": [],
   "source": [
    "df.to_csv('result/' + timestamp, encoding='utf-8', index=False)"
   ]
  },
  {
   "cell_type": "code",
   "execution_count": null,
   "metadata": {
    "collapsed": true
   },
   "outputs": [],
   "source": []
  }
 ],
 "metadata": {
  "anaconda-cloud": {},
  "kernelspec": {
   "display_name": "Python [Root]",
   "language": "python",
   "name": "Python [Root]"
  },
  "language_info": {
   "codemirror_mode": {
    "name": "ipython",
    "version": 3
   },
   "file_extension": ".py",
   "mimetype": "text/x-python",
   "name": "python",
   "nbconvert_exporter": "python",
   "pygments_lexer": "ipython3",
   "version": "3.5.2"
  }
 },
 "nbformat": 4,
 "nbformat_minor": 0
}
