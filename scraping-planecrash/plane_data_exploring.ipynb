{
 "cells": [
  {
   "cell_type": "markdown",
   "metadata": {},
   "source": [
    "# DataExploration with Spark SQL\n",
    "\n",
    "## After scraping the plane crash data from the website then using Pyspak to explore the data"
   ]
  },
  {
   "cell_type": "code",
   "execution_count": 13,
   "metadata": {},
   "outputs": [],
   "source": [
    "import findspark\n",
    "findspark.init()"
   ]
  },
  {
   "cell_type": "code",
   "execution_count": 14,
   "metadata": {},
   "outputs": [],
   "source": [
    "import os\n",
    "os.environ['PYSPARK_PYTHON'] = '/usr/local/bin/python3'"
   ]
  },
  {
   "cell_type": "code",
   "execution_count": 15,
   "metadata": {},
   "outputs": [],
   "source": [
    "from pyspark.sql import SparkSession\n",
    "from pyspark.sql.types import StructField,StringType,StructType\n",
    "from pyspark.sql.functions import *"
   ]
  },
  {
   "cell_type": "code",
   "execution_count": null,
   "metadata": {},
   "outputs": [],
   "source": [
    "spark = SparkSession.builder.appName('plane_acc').getOrCreate()"
   ]
  },
  {
   "cell_type": "code",
   "execution_count": 18,
   "metadata": {},
   "outputs": [],
   "source": [
    "data_schema = [StructField('date',StringType(),True),\n",
    "              StructField('location',StringType(),True),\n",
    "              StructField('aircraft_type',StringType(),True),\n",
    "              StructField('fatalities',StringType(),True),\n",
    "              StructField('filename',StringType(),True)]\n",
    "final_struct = StructType(fields=data_schema)"
   ]
  },
  {
   "cell_type": "code",
   "execution_count": 21,
   "metadata": {},
   "outputs": [],
   "source": [
    "# Read result.csv and change the column name\n",
    "df = spark.read.csv('result/032020_083105.csv', header=True, inferSchema=True, schema=final_struct)"
   ]
  },
  {
   "cell_type": "code",
   "execution_count": 22,
   "metadata": {},
   "outputs": [
    {
     "name": "stdout",
     "output_type": "stream",
     "text": [
      "root\n",
      " |-- date: string (nullable = true)\n",
      " |-- location: string (nullable = true)\n",
      " |-- aircraft_type: string (nullable = true)\n",
      " |-- fatalities: string (nullable = true)\n",
      " |-- filename: string (nullable = true)\n",
      "\n"
     ]
    }
   ],
   "source": [
    "df.printSchema()"
   ]
  },
  {
   "cell_type": "code",
   "execution_count": 36,
   "metadata": {},
   "outputs": [
    {
     "data": {
      "text/plain": [
       "[Row(date='17 Sep 1908', location='Fort Myer, VirginiaMilitary - U.S. Army', aircraft_type='Wright Flyer III?', fatalities='1/2(0)', filename='data/1920.csv'),\n",
       " Row(date='07 Sep 1909', location='Juvisy-sur-Orge, France?', aircraft_type='Wright ByplaneSC1', fatalities='1/1(0)', filename='data/1920.csv'),\n",
       " Row(date='12 Jul 1912', location='Atlantic City, New JerseyMilitary - U.S. Navy', aircraft_type='Dirigible?', fatalities='5/5(0)', filename='data/1920.csv'),\n",
       " Row(date='06 Aug 1913', location='Victoria, British Columbia, CanadaPrivate', aircraft_type='Curtiss seaplane?', fatalities='1/1(0)', filename='data/1920.csv'),\n",
       " Row(date='09 Sep 1913', location='Over the North SeaMilitary - German Navy', aircraft_type='Zeppelin L-1 (airship)?', fatalities='14/20(0)', filename='data/1920.csv')]"
      ]
     },
     "execution_count": 36,
     "metadata": {},
     "output_type": "execute_result"
    }
   ],
   "source": [
    "df.head(5)"
   ]
  },
  {
   "cell_type": "code",
   "execution_count": 37,
   "metadata": {},
   "outputs": [],
   "source": [
    "df.createTempView('plane_crash')"
   ]
  },
  {
   "cell_type": "code",
   "execution_count": 57,
   "metadata": {},
   "outputs": [],
   "source": [
    "# Plane crash in Thailand from 1920-2020\n",
    "plane_crash_in_thailand_df = spark.sql(\"SELECT date,location,aircraft_type,fatalities,filename FROM plane_crash WHERE location like '%Thai%'\")"
   ]
  },
  {
   "cell_type": "code",
   "execution_count": 58,
   "metadata": {},
   "outputs": [
    {
     "data": {
      "text/plain": [
       "25"
      ]
     },
     "execution_count": 58,
     "metadata": {},
     "output_type": "execute_result"
    }
   ],
   "source": [
    "plane_crash_in_thailand_df.count()"
   ]
  },
  {
   "cell_type": "code",
   "execution_count": 59,
   "metadata": {},
   "outputs": [
    {
     "name": "stdout",
     "output_type": "stream",
     "text": [
      "+-----------+--------------------+--------------------+----------+-------------+\n",
      "|       date|            location|       aircraft_type|fatalities|     filename|\n",
      "+-----------+--------------------+--------------------+----------+-------------+\n",
      "|06 Dec 1931|Bangkok, Thailand...|Fokker F-VIIb-3MP...|    5/7(0)|data/1931.csv|\n",
      "|13 Jan 1951|Mt. Bukit, Besar,...|  Douglas DC-3VR-HEP|  10/10(0)|data/1951.csv|\n",
      "|31 Mar 1956|Korat ,ThailandMi...|Douglas C-47AL2-1...|  19/19(0)|data/1956.csv|\n",
      "|14 Apr 1960|Taipei,TaiwanMili...|       Douglas DC-4?|  18/18(0)|data/1960.csv|\n",
      "|19 Jul 1962|Near Bangkok, Tha...|de Havilland Come...|  26/26(0)|data/1962.csv|\n",
      "|04 Sep 1964|Near Vaong Nong, ...|       Douglas C-47?|  28/34(0)|data/1964.csv|\n",
      "|30 Jun 1967|Kai Tak, Hong Kon...|Sud Aviation SE-2...|  24/80(0)|data/1967.csv|\n",
      "|25 Dec 1967|Chiang Mai, Thail...|  Douglas DC-3HS-TDH|   4/31(0)|data/1967.csv|\n",
      "|13 May 1975|Near Sakon Nakhon...|Sikorsky CH-53C (...|  23/23(0)|data/1975.csv|\n",
      "|25 Dec 1976|Near Bangkok, Tha...|Boeing B-707-366C...| 53/53(19)|data/1976.csv|\n",
      "|27 Apr 1980|Don Muang, Thaila...|Hawker Siddeley H...|  44/53(0)|data/1980.csv|\n",
      "|30 Apr 1982|Gulf of ThailandO...| Sikorsky S-76C-GIMF|  13/13(0)|data/1982.csv|\n",
      "|05 May 1983|Near Ban Ta Khli,...|Fairchild C-123KL...|  30/30(0)|data/1983.csv|\n",
      "|15 Apr 1985|Near Phuket, Thai...|Boeing B-737-200H...|  11/11(0)|data/1985.csv|\n",
      "|31 Aug 1987|Off Ko Phuket, Th...|Boeing B-737-2P5H...|  83/83(0)|data/1987.csv|\n",
      "|09 Sep 1988|Bangkok, Thailand...|Tupolev TU-134AVN...|  76/90(0)|data/1988.csv|\n",
      "|21 Nov 1990|Koh Samui, Thaila...|de Havilland Cana...|  38/38(0)|data/1990.csv|\n",
      "|26 May 1991|Near Ban Nong Ron...|Boeing B-767-3Z9E...|223/223(0)|data/1991.csv|\n",
      "|31 Jul 1992|Near Kathmandu, N...|Airbus A310-304HS...|113/113(0)|data/1992.csv|\n",
      "|11 Dec 1998|Near Surat Thani,...|Airbus A-310-204H...|102/146(0)|data/1998.csv|\n",
      "+-----------+--------------------+--------------------+----------+-------------+\n",
      "only showing top 20 rows\n",
      "\n"
     ]
    }
   ],
   "source": [
    "plane_crash_in_thailand_df.show()"
   ]
  },
  {
   "cell_type": "code",
   "execution_count": null,
   "metadata": {},
   "outputs": [],
   "source": []
  }
 ],
 "metadata": {
  "anaconda-cloud": {},
  "kernelspec": {
   "display_name": "Python 3",
   "language": "python",
   "name": "python3"
  },
  "language_info": {
   "codemirror_mode": {
    "name": "ipython",
    "version": 3
   },
   "file_extension": ".py",
   "mimetype": "text/x-python",
   "name": "python",
   "nbconvert_exporter": "python",
   "pygments_lexer": "ipython3",
   "version": "3.7.6"
  }
 },
 "nbformat": 4,
 "nbformat_minor": 1
}
