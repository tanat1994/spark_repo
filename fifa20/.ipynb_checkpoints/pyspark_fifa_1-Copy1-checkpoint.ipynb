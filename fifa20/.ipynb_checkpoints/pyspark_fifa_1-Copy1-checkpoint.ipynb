{
 "cells": [
  {
   "cell_type": "markdown",
   "metadata": {},
   "source": [
    "# PySpark Fifa20\n",
    "## Practice PySpark SQL w/ FIFA20 datasets\n",
    "### cr. https://www.kaggle.com/stefanoleone992/fifa-20-complete-player-dataset#players_15.csv"
   ]
  },
  {
   "cell_type": "code",
   "execution_count": 3,
   "metadata": {},
   "outputs": [],
   "source": [
    "# import findspark\n",
    "# findspark.init('/home/ubuntu/spark-2.0.0-bin-hadoop2.7')"
   ]
  },
  {
   "cell_type": "code",
   "execution_count": 4,
   "metadata": {},
   "outputs": [],
   "source": [
    "from pyspark.sql import SparkSession"
   ]
  },
  {
   "cell_type": "code",
   "execution_count": 6,
   "metadata": {},
   "outputs": [],
   "source": [
    "spark = SparkSession.builder.appName('fifa1').getOrCreate()"
   ]
  },
  {
   "cell_type": "code",
   "execution_count": 7,
   "metadata": {},
   "outputs": [],
   "source": [
    "# Read CSV file to Dataframe\n",
    "df = spark.read.csv('players_20.csv',header=True,inferSchema=True)"
   ]
  },
  {
   "cell_type": "code",
   "execution_count": 15,
   "metadata": {},
   "outputs": [
    {
     "name": "stdout",
     "output_type": "stream",
     "text": [
      "root\n",
      " |-- sofifa_id: integer (nullable = true)\n",
      " |-- player_url: string (nullable = true)\n",
      " |-- short_name: string (nullable = true)\n",
      " |-- long_name: string (nullable = true)\n",
      " |-- age: integer (nullable = true)\n",
      " |-- dob: timestamp (nullable = true)\n",
      " |-- height_cm: integer (nullable = true)\n",
      " |-- weight_kg: integer (nullable = true)\n",
      " |-- nationality: string (nullable = true)\n",
      " |-- club: string (nullable = true)\n",
      " |-- overall: integer (nullable = true)\n",
      " |-- potential: integer (nullable = true)\n",
      " |-- value_eur: integer (nullable = true)\n",
      " |-- wage_eur: integer (nullable = true)\n",
      " |-- player_positions: string (nullable = true)\n",
      " |-- preferred_foot: string (nullable = true)\n",
      " |-- international_reputation: integer (nullable = true)\n",
      " |-- weak_foot: integer (nullable = true)\n",
      " |-- skill_moves: integer (nullable = true)\n",
      " |-- work_rate: string (nullable = true)\n",
      " |-- body_type: string (nullable = true)\n",
      " |-- real_face: string (nullable = true)\n",
      " |-- release_clause_eur: integer (nullable = true)\n",
      " |-- player_tags: string (nullable = true)\n",
      " |-- team_position: string (nullable = true)\n",
      " |-- team_jersey_number: integer (nullable = true)\n",
      " |-- loaned_from: string (nullable = true)\n",
      " |-- joined: timestamp (nullable = true)\n",
      " |-- contract_valid_until: integer (nullable = true)\n",
      " |-- nation_position: string (nullable = true)\n",
      " |-- nation_jersey_number: integer (nullable = true)\n",
      " |-- pace: integer (nullable = true)\n",
      " |-- shooting: integer (nullable = true)\n",
      " |-- passing: integer (nullable = true)\n",
      " |-- dribbling: integer (nullable = true)\n",
      " |-- defending: integer (nullable = true)\n",
      " |-- physic: integer (nullable = true)\n",
      " |-- gk_diving: integer (nullable = true)\n",
      " |-- gk_handling: integer (nullable = true)\n",
      " |-- gk_kicking: integer (nullable = true)\n",
      " |-- gk_reflexes: integer (nullable = true)\n",
      " |-- gk_speed: integer (nullable = true)\n",
      " |-- gk_positioning: integer (nullable = true)\n",
      " |-- player_traits: string (nullable = true)\n",
      " |-- attacking_crossing: integer (nullable = true)\n",
      " |-- attacking_finishing: integer (nullable = true)\n",
      " |-- attacking_heading_accuracy: integer (nullable = true)\n",
      " |-- attacking_short_passing: integer (nullable = true)\n",
      " |-- attacking_volleys: integer (nullable = true)\n",
      " |-- skill_dribbling: integer (nullable = true)\n",
      " |-- skill_curve: integer (nullable = true)\n",
      " |-- skill_fk_accuracy: integer (nullable = true)\n",
      " |-- skill_long_passing: integer (nullable = true)\n",
      " |-- skill_ball_control: integer (nullable = true)\n",
      " |-- movement_acceleration: integer (nullable = true)\n",
      " |-- movement_sprint_speed: integer (nullable = true)\n",
      " |-- movement_agility: integer (nullable = true)\n",
      " |-- movement_reactions: integer (nullable = true)\n",
      " |-- movement_balance: integer (nullable = true)\n",
      " |-- power_shot_power: integer (nullable = true)\n",
      " |-- power_jumping: integer (nullable = true)\n",
      " |-- power_stamina: integer (nullable = true)\n",
      " |-- power_strength: integer (nullable = true)\n",
      " |-- power_long_shots: integer (nullable = true)\n",
      " |-- mentality_aggression: integer (nullable = true)\n",
      " |-- mentality_interceptions: integer (nullable = true)\n",
      " |-- mentality_positioning: integer (nullable = true)\n",
      " |-- mentality_vision: integer (nullable = true)\n",
      " |-- mentality_penalties: integer (nullable = true)\n",
      " |-- mentality_composure: integer (nullable = true)\n",
      " |-- defending_marking: integer (nullable = true)\n",
      " |-- defending_standing_tackle: integer (nullable = true)\n",
      " |-- defending_sliding_tackle: integer (nullable = true)\n",
      " |-- goalkeeping_diving: integer (nullable = true)\n",
      " |-- goalkeeping_handling: integer (nullable = true)\n",
      " |-- goalkeeping_kicking: integer (nullable = true)\n",
      " |-- goalkeeping_positioning: integer (nullable = true)\n",
      " |-- goalkeeping_reflexes: integer (nullable = true)\n",
      " |-- ls: string (nullable = true)\n",
      " |-- st: string (nullable = true)\n",
      " |-- rs: string (nullable = true)\n",
      " |-- lw: string (nullable = true)\n",
      " |-- lf: string (nullable = true)\n",
      " |-- cf: string (nullable = true)\n",
      " |-- rf: string (nullable = true)\n",
      " |-- rw: string (nullable = true)\n",
      " |-- lam: string (nullable = true)\n",
      " |-- cam: string (nullable = true)\n",
      " |-- ram: string (nullable = true)\n",
      " |-- lm: string (nullable = true)\n",
      " |-- lcm: string (nullable = true)\n",
      " |-- cm: string (nullable = true)\n",
      " |-- rcm: string (nullable = true)\n",
      " |-- rm: string (nullable = true)\n",
      " |-- lwb: string (nullable = true)\n",
      " |-- ldm: string (nullable = true)\n",
      " |-- cdm: string (nullable = true)\n",
      " |-- rdm: string (nullable = true)\n",
      " |-- rwb: string (nullable = true)\n",
      " |-- lb: string (nullable = true)\n",
      " |-- lcb: string (nullable = true)\n",
      " |-- cb: string (nullable = true)\n",
      " |-- rcb: string (nullable = true)\n",
      " |-- rb: string (nullable = true)\n",
      "\n"
     ]
    }
   ],
   "source": [
    "# Print All columns name and ColumnType\n",
    "df.printSchema()"
   ]
  },
  {
   "cell_type": "code",
   "execution_count": 36,
   "metadata": {},
   "outputs": [
    {
     "name": "stdout",
     "output_type": "stream",
     "text": [
      "+--------------------+-------+---------+\n",
      "|          short_name|overall|potential|\n",
      "+--------------------+-------+---------+\n",
      "|         V. van Dijk|     90|       91|\n",
      "|            M. Salah|     90|       90|\n",
      "|             Alisson|     89|       91|\n",
      "|             S. Mané|     88|       88|\n",
      "|     Roberto Firmino|     86|       87|\n",
      "|             Fabinho|     85|       89|\n",
      "|        A. Robertson|     85|       89|\n",
      "|        G. Wijnaldum|     84|       84|\n",
      "| T. Alexander-Arnold|     83|       89|\n",
      "|        J. Henderson|     83|       83|\n",
      "|            N. Keïta|     82|       87|\n",
      "|            J. Matip|     82|       84|\n",
      "|          X. Shaqiri|     82|       82|\n",
      "|           J. Milner|     81|       81|\n",
      "|            J. Gomez|     80|       88|\n",
      "|A. Oxlade-Chamber...|     80|       83|\n",
      "|           D. Lovren|     80|       80|\n",
      "|          A. Lallana|     79|       79|\n",
      "|            D. Origi|     78|       83|\n",
      "|            N. Clyne|     78|       78|\n",
      "+--------------------+-------+---------+\n",
      "only showing top 20 rows\n",
      "\n"
     ]
    }
   ],
   "source": [
    "# Liverpool's players overall & potential \n",
    "liverpool_players = df.filter(df.club == 'Liverpool').select(['short_name', 'overall', 'potential'])\n",
    "liverpool_players.show()"
   ]
  },
  {
   "cell_type": "code",
   "execution_count": 72,
   "metadata": {},
   "outputs": [
    {
     "name": "stdout",
     "output_type": "stream",
     "text": [
      "+--------------+----+----------------+\n",
      "|    short_name|pace|player_positions|\n",
      "+--------------+----+----------------+\n",
      "|  Adama Traoré|  96|         RW, RWB|\n",
      "|     K. Mbappé|  96|          ST, RW|\n",
      "|      A. Chalá|  95|          LB, LM|\n",
      "|      K. Nagai|  95|      ST, LM, LW|\n",
      "|       L. Sané|  95|              LW|\n",
      "|Gelson Martins|  95|          RM, RW|\n",
      "|      D. James|  94|      LM, LW, RM|\n",
      "|       S. Mané|  94|          LW, LM|\n",
      "| T. Barkhuizen|  94|          RM, LM|\n",
      "|       I. Sarr|  94|          RM, LM|\n",
      "+--------------+----+----------------+\n",
      "only showing top 10 rows\n",
      "\n"
     ]
    }
   ],
   "source": [
    "# Top 10 fastest pace score for outfield players in Fifa20\n",
    "outfield_players = df.filter(df.team_position != 'GK')\n",
    "# drop the 'null' value in the pace column\n",
    "outfield_players_drop_na = outfield_players.na.drop(subset=['pace'])\n",
    "outfield_players_drop_na.select(['short_name','pace','player_positions']).orderBy(df['pace'].desc()).show(10)"
   ]
  },
  {
   "cell_type": "code",
   "execution_count": 28,
   "metadata": {},
   "outputs": [
    {
     "name": "stdout",
     "output_type": "stream",
     "text": [
      "+--------------+----------------+---------------------+--------------------+\n",
      "|    short_name|attack_work_rate|mentality_positioning|contract_valid_until|\n",
      "+--------------+----------------+---------------------+--------------------+\n",
      "|     S. Agüero|            High|                   93|                2021|\n",
      "|     E. Cavani|            High|                   93|                2020|\n",
      "|     T. Müller|            High|                   92|                2021|\n",
      "|     L. Suárez|            High|                   92|                2021|\n",
      "|R. Lewandowski|            High|                   91|                2021|\n",
      "|  M. Mandžukić|            High|                   90|                2021|\n",
      "|        Falcao|            High|                   90|                2020|\n",
      "|    G. Higuaín|            High|                   90|                2021|\n",
      "|   David Silva|            High|                   88|                2020|\n",
      "| José Callejón|            High|                   88|                2020|\n",
      "+--------------+----------------+---------------------+--------------------+\n",
      "only showing top 10 rows\n",
      "\n"
     ]
    }
   ],
   "source": [
    "# Top 10 players who always find the spot to get the score and has a contract less than 2 years\n",
    "from pyspark.sql.functions import split\n",
    "split_work_rate = split(df['work_rate'], '/')\n",
    "wr_df = df.withColumn('attack_work_rate', split_work_rate.getItem(0))\n",
    "wr_df = wr_df.withColumn('defense_work_rate', split_work_rate.getItem(1))\n",
    "high_atk_wr_df = wr_df.filter((wr_df['attack_work_rate'] == 'High') & (wr_df['mentality_positioning'] > 80) & ((wr_df['contract_valid_until'] - 2020) < 2))\n",
    "high_atk_wr_df.select(['short_name','attack_work_rate','mentality_positioning','contract_valid_until']).orderBy(high_atk_wr_df['mentality_positioning'].desc()).show(10)"
   ]
  },
  {
   "cell_type": "code",
   "execution_count": 12,
   "metadata": {},
   "outputs": [],
   "source": [
    "import matplotlib.pyplot as plt"
   ]
  },
  {
   "cell_type": "code",
   "execution_count": 50,
   "metadata": {},
   "outputs": [
    {
     "data": {
      "image/png": "[encoded data removed]",
      "text/plain": [
       "<Figure size 432x288 with 1 Axes>"
      ]
     },
     "metadata": {},
     "output_type": "display_data"
    }
   ],
   "source": [
    "filtered_list = df.filter(df.club == 'Liverpool').groupBy('nationality').count().collect()\n",
    "nationality_list = [result[0] for result in filtered_list]\n",
    "count_list = [result[1] for result in filtered_list]\n",
    "\n",
    "plt.pie(count_list, labels=nationality_list, autopct='%1.1f%%')\n",
    "plt.title('Nationality')\n",
    "plt.axis('equal')\n",
    "plt.show()\n"
   ]
  },
  {
   "cell_type": "code",
   "execution_count": null,
   "metadata": {},
   "outputs": [],
   "source": []
  }
 ],
 "metadata": {
  "anaconda-cloud": {},
  "kernelspec": {
   "display_name": "Python 3",
   "language": "python",
   "name": "python3"
  },
  "language_info": {
   "codemirror_mode": {
    "name": "ipython",
    "version": 3
   },
   "file_extension": ".py",
   "mimetype": "text/x-python",
   "name": "python",
   "nbconvert_exporter": "python",
   "pygments_lexer": "ipython3",
   "version": "3.7.6"
  }
 },
 "nbformat": 4,
 "nbformat_minor": 1
}
